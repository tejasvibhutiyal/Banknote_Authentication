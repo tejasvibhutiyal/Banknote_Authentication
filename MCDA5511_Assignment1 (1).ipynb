{
  "cells": [
    {
      "cell_type": "markdown",
      "id": "5Y8yQhX8B5ww",
      "metadata": {
        "id": "5Y8yQhX8B5ww"
      },
      "source": [
        "# BankNote Authentication"
      ]
    },
    {
      "cell_type": "code",
      "execution_count": 77,
      "id": "0767763f",
      "metadata": {},
      "outputs": [],
      "source": [
        "# Importing required modules\n",
        "import pandas as pd\n",
        "import numpy as np\n",
        "from sklearn.model_selection import train_test_split\n",
        "from sklearn.linear_model import LogisticRegression\n",
        "from sklearn.metrics import accuracy_score\n",
        "from sklearn.preprocessing import StandardScaler\n",
        "import matplotlib.pyplot as plt"
      ]
    },
    {
      "cell_type": "code",
      "execution_count": 78,
      "id": "6d2c1d66-1790-4edc-a6f5-7dd126ae2bbf",
      "metadata": {
        "colab": {
          "base_uri": "https://localhost:8080/"
        },
        "id": "6d2c1d66-1790-4edc-a6f5-7dd126ae2bbf",
        "outputId": "2d94c100-89e8-4c48-fe33-4daf064313a3"
      },
      "outputs": [
        {
          "name": "stdout",
          "output_type": "stream",
          "text": [
            "          variance     skewness     curtosis      entropy        class\n",
            "count  1372.000000  1372.000000  1372.000000  1372.000000  1372.000000\n",
            "mean      0.433735     1.922353     1.397627    -1.191657     0.444606\n",
            "std       2.842763     5.869047     4.310030     2.101013     0.497103\n",
            "min      -7.042100   -13.773100    -5.286100    -8.548200     0.000000\n",
            "25%      -1.773000    -1.708200    -1.574975    -2.413450     0.000000\n",
            "50%       0.496180     2.319650     0.616630    -0.586650     0.000000\n",
            "75%       2.821475     6.814625     3.179250     0.394810     1.000000\n",
            "max       6.824800    12.951600    17.927400     2.449500     1.000000\n",
            "\n"
          ]
        },
        {
          "data": {
            "text/plain": [
              "array([<Axes: ylabel='Frequency'>, <Axes: ylabel='Frequency'>,\n",
              "       <Axes: ylabel='Frequency'>, <Axes: ylabel='Frequency'>,\n",
              "       <Axes: ylabel='Frequency'>], dtype=object)"
            ]
          },
          "execution_count": 78,
          "metadata": {},
          "output_type": "execute_result"
        },
        {
          "data": {
            "image/png": "[encoded data removed]",
            "text/plain": [
              "<Figure size 640x480 with 5 Axes>"
            ]
          },
          "metadata": {},
          "output_type": "display_data"
        }
      ],
      "source": [
        "# Reading Banknote Authentication dataset\n",
        "df = pd.read_csv(\n",
        "    \"data_banknote_authentication.txt\",\n",
        "    header=None,\n",
        "    names=[\"variance\", \"skewness\", \"curtosis\", \"entropy\", \"class\"],\n",
        ")\n",
        "\n",
        "print(df.describe())\n",
        "print()\n",
        "# Plotting data distribution\n",
        "df.plot(kind=\"hist\", subplots=True, bins=100)"
      ]
    },
    {
      "cell_type": "markdown",
      "id": "bb2eb7b3",
      "metadata": {},
      "source": [
        "# Part 1.\n",
        "\n",
        "First, we will need split the data in train and test sets. (Note that you can do this with train_test_split from sklearn.) Use 80% train, 20% test.\n"
      ]
    },
    {
      "cell_type": "code",
      "execution_count": 80,
      "id": "03aa4932",
      "metadata": {},
      "outputs": [
        {
          "name": "stdout",
          "output_type": "stream",
          "text": [
            "Shapes for the created vectors:\n",
            "X_train:  (1097, 4)\n",
            "y_train:  (1097,)\n",
            "X_test:  (275, 4)\n",
            "y_test:  (275,)\n"
          ]
        }
      ],
      "source": [
        "x = df.drop(\"class\", axis=1)\n",
        "y = df[\"class\"]\n",
        "\n",
        "# test train split\n",
        "(X_train, X_test, y_train, y_test) = train_test_split(\n",
        "    x, y, test_size=0.2, random_state=123\n",
        ")\n",
        "\n",
        "print(\"Shapes for the created vectors:\")\n",
        "print(\"X_train: \", X_train.shape)\n",
        "print(\"y_train: \", y_train.shape)\n",
        "print(\"X_test: \", X_test.shape)\n",
        "print(\"y_test: \", y_test.shape)"
      ]
    },
    {
      "cell_type": "markdown",
      "id": "G3-RVCs2D6g6",
      "metadata": {
        "id": "G3-RVCs2D6g6"
      },
      "source": [
        "## Part 2.\n",
        "\n",
        "Fit a logistic regression model and compute accuracy on the test set. You can use the sklearn.linear_model and sklearn.metrics modules for this.\n"
      ]
    },
    {
      "cell_type": "code",
      "execution_count": 81,
      "id": "14d0de82-9e03-46e7-a5cc-94e80df851cc",
      "metadata": {
        "colab": {
          "base_uri": "https://localhost:8080/"
        },
        "id": "14d0de82-9e03-46e7-a5cc-94e80df851cc",
        "outputId": "8f6f1a8b-780d-4aa1-f533-a68f6d2dae5c"
      },
      "outputs": [],
      "source": [
        "def logisticReg(X_train, X_test, y_train, y_test):\n",
        "    \"\"\"\n",
        "    Train a logistic regression model using sklearn's implementation and calculate accuracy.\n",
        "\n",
        "    Parameters:\n",
        "    X_train : array-like, shape (n_samples, n_features)\n",
        "        Training input data.\n",
        "\n",
        "    X_test : array-like, shape (n_samples, n_features)\n",
        "        Testing input data.\n",
        "\n",
        "    y_train : array-like, shape (n_samples,)\n",
        "        Training target values.\n",
        "\n",
        "    y_test : array-like, shape (n_samples,)\n",
        "        Testing target values.\n",
        "\n",
        "    Returns:\n",
        "    float\n",
        "        Model accuracy on the test data.\n",
        "    \"\"\"\n",
        "    logisticRegr = LogisticRegression()\n",
        "    logisticRegr.fit(X_train, y_train)\n",
        "    y_pred = logisticRegr.predict(X_test)\n",
        "    model_score = accuracy_score(y_test, y_pred)\n",
        "    return model_score"
      ]
    },
    {
      "cell_type": "code",
      "execution_count": 82,
      "id": "57535a41",
      "metadata": {},
      "outputs": [
        {
          "data": {
            "text/plain": [
              "0.9890909090909091"
            ]
          },
          "execution_count": 82,
          "metadata": {},
          "output_type": "execute_result"
        }
      ],
      "source": [
        "logisticReg(X_train, X_test, y_train, y_test)"
      ]
    },
    {
      "cell_type": "code",
      "execution_count": 83,
      "id": "05543f44",
      "metadata": {
        "id": "05543f44"
      },
      "outputs": [],
      "source": [
        "# Sigmoid Activation Function\n",
        "def sigmoidFunction(z):\n",
        "    \"\"\"\n",
        "    Compute the sigmoid function.\n",
        "\n",
        "    Parameters:\n",
        "    z : array-like\n",
        "        Input to the sigmoid function.\n",
        "\n",
        "    Returns:\n",
        "    array-like\n",
        "        Output of the sigmoid function.\n",
        "    \"\"\"\n",
        "    return 1 / (1 + np.exp(-z))"
      ]
    },
    {
      "cell_type": "code",
      "execution_count": 84,
      "id": "bfa5b9fb-efa5-4c1c-94a3-d1e8acade19e",
      "metadata": {
        "colab": {
          "base_uri": "https://localhost:8080/"
        },
        "id": "bfa5b9fb-efa5-4c1c-94a3-d1e8acade19e",
        "outputId": "ef60c79c-9fe4-4e78-dd9a-1499dea8a60e"
      },
      "outputs": [],
      "source": [
        "def oneLNN_L2(X_train, X_test, y_train, y_test, lamda=0, lr=0.001, epochs=100):\n",
        "    \"\"\"\n",
        "    Train a one-layer neural network with L2 regularization.\n",
        "\n",
        "    Parameters:\n",
        "    X_train : array, shape (n_samples, n_features)\n",
        "        Training input data.\n",
        "\n",
        "    X_test : array, shape (n_samples, n_features)\n",
        "        Testing input data.\n",
        "\n",
        "    y_train : array, shape (n_samples,)\n",
        "        Training target values.\n",
        "\n",
        "    y_test : array, shape (n_samples,)\n",
        "        Testing target values.\n",
        "\n",
        "    lamda : float, optional\n",
        "        Regularization parameter (L2 penalty). Default is 0.\n",
        "\n",
        "    lr : float, optional\n",
        "        Learning rate for gradient descent. Default is 0.001.\n",
        "\n",
        "    epochs : int, optional\n",
        "        Number of training epochs (iterations). Default is 100.\n",
        "\n",
        "    Returns:\n",
        "    dict\n",
        "        Dictionary with keys:\n",
        "            - 'weights': Array of learned weights for the neural network.\n",
        "            - 'biases': Array of learned biases for the neural network.\n",
        "            - 'accuracy': Model accuracy on the test data.\n",
        "            - 'lamda': Regularization parameter used.\n",
        "\n",
        "    Notes:\n",
        "    This function trains a one-layer neural network using gradient descent\n",
        "    with sigmoid activation and L2 regularization. Accuracy is computed on\n",
        "    the provided test data.\n",
        "    \"\"\"\n",
        "    np.random.seed(0)\n",
        "    W = np.random.rand(4, 1)\n",
        "    B = np.random.rand(1)\n",
        "\n",
        "    for _ in range(epochs):\n",
        "        z = np.dot(X_train, W) + B\n",
        "        A = sigmoidFunction(z)\n",
        "        dCW = np.dot(X_train.T, A - (y_train.values.reshape(-1, 1))) + (lamda * W)\n",
        "        dCB = A - (y_train.values.reshape(-1, 1))\n",
        "        W = W - lr * (dCW)\n",
        "        B = B - lr * np.sum(dCB)\n",
        "\n",
        "    y_pred_nn = sigmoidFunction(np.dot(X_test, W) + B)\n",
        "    y_pred_nn = [0 if i < 0.5 else 1 for i in y_pred_nn]\n",
        "    model_score_nn = accuracy_score(y_test, y_pred_nn)\n",
        "\n",
        "    return {\"weights\": W, \"biases\": B, \"accuracy\": model_score_nn, \"lamda\": lamda}"
      ]
    },
    {
      "cell_type": "markdown",
      "id": "6fabd7e3",
      "metadata": {},
      "source": [
        "\n",
        "Now let’s compare with a neural network (NN). However, instead of using sklearn, write out the code to train the NN from scratch. Use a network with a single layer with four neurons (same as the number of features) and sigmoid activation. Initialize the weights randomly, implement forward propagation to compute the predictions, and the backpropagation algorithm to update the weights using gradient descent. It may be helpful to include a learning rate parameter. Run the training process for long enough for the model to converge. Compute the accuracy - you may use sklearn.metrics for this\n"
      ]
    },
    {
      "cell_type": "code",
      "execution_count": 85,
      "id": "7f6feda2",
      "metadata": {},
      "outputs": [
        {
          "name": "stdout",
          "output_type": "stream",
          "text": [
            "{'weights': array([[-2.01628882],\n",
            "       [-0.88534796],\n",
            "       [-1.0836964 ],\n",
            "       [-0.2445677 ]]), 'biases': array([0.66801435]), 'accuracy': 0.9927272727272727, 'lamda': 0}\n",
            "{'weights': array([[-3.9895519 ],\n",
            "       [-2.29902289],\n",
            "       [-2.78836066],\n",
            "       [-0.26885729]]), 'biases': array([4.28990569]), 'accuracy': 0.9890909090909091, 'lamda': 0}\n"
          ]
        }
      ],
      "source": [
        "# executing for 10 epochs\n",
        "print(oneLNN_L2(X_train, X_test, y_train, y_test, epochs=10))\n",
        "\n",
        "# executing for 1000 epochs\n",
        "print(oneLNN_L2(X_train, X_test, y_train, y_test, epochs=1000))"
      ]
    },
    {
      "cell_type": "markdown",
      "id": "6867a03c",
      "metadata": {},
      "source": [
        "Observation:\n",
        "\n",
        "1. Training the above data for 10 epochs with the oneLNN_L2 results in 99.27% accuracy, which reduced to 98.90% when number of epochs are increased to 1000.\n"
      ]
    },
    {
      "cell_type": "markdown",
      "id": "0ca88ce3",
      "metadata": {},
      "source": [
        "\n",
        "Recall from class that a single-layer NN with sigmoid activation is essentially equivalent to logistic regression. Compare the accuracy scores from the two models. What accounts for any differences?\n"
      ]
    },
    {
      "cell_type": "markdown",
      "id": "f67bc3f5",
      "metadata": {},
      "source": [
        "Using same train-test split for both sklearn's logistic regression implementation with default parameters and our single layer NN implementation, we found there to be a minor difference in performance.\n",
        "The results are:\n",
        "\n",
        "- With sklearn's LR: 98.9090%\n",
        "- With our implementation, using (lamda = 0, lr = 0.001, epochs = 10): 99.2727%\n",
        "- With our implementation, using (lamda = 0, lr = 0.001, epochs = 1000): 98.9090%\n",
        "\n",
        "Expected result: The expectation was to get a lower accuracy score from our LNN as compared to the sklearn's implementation of LR model due to:\n",
        "\n",
        "- better convergence algorithm (L-BFGS) used in sklearn's implementation than vanilla gradient descent in ours\n",
        "- we are running our model long enough to converge so it might overfit on the training data which can result in high variance\n"
      ]
    },
    {
      "cell_type": "markdown",
      "id": "45591d7e",
      "metadata": {},
      "source": [
        "## Question 5.\n",
        "\n",
        "Optional bonus question: Retrain your neural network using L2 regularization with lambda = 0.01. Recompute accuracy and compare with your models from the previous questions. What do you observe and why?\n"
      ]
    },
    {
      "cell_type": "code",
      "execution_count": 86,
      "id": "8f2eaa97",
      "metadata": {},
      "outputs": [
        {
          "data": {
            "text/plain": [
              "{'weights': array([[-3.97412574],\n",
              "        [-2.29065857],\n",
              "        [-2.777899  ],\n",
              "        [-0.26584001]]),\n",
              " 'biases': array([4.2809067]),\n",
              " 'accuracy': 0.9890909090909091,\n",
              " 'lamda': 0.01}"
            ]
          },
          "execution_count": 86,
          "metadata": {},
          "output_type": "execute_result"
        }
      ],
      "source": [
        "# with L2 regularization\n",
        "oneLNN_L2(X_train, X_test, y_train, y_test, lamda=0.01, lr=0.001, epochs=1000)"
      ]
    },
    {
      "cell_type": "code",
      "execution_count": 87,
      "id": "f283f14c",
      "metadata": {},
      "outputs": [
        {
          "data": {
            "text/plain": [
              "{'weights': array([[-3.9895519 ],\n",
              "        [-2.29902289],\n",
              "        [-2.78836066],\n",
              "        [-0.26885729]]),\n",
              " 'biases': array([4.28990569]),\n",
              " 'accuracy': 0.9890909090909091,\n",
              " 'lamda': 0}"
            ]
          },
          "execution_count": 87,
          "metadata": {},
          "output_type": "execute_result"
        }
      ],
      "source": [
        "# with no L2 regularization\n",
        "oneLNN_L2(X_train, X_test, y_train, y_test, lamda=0, lr=0.001, epochs=1000)"
      ]
    },
    {
      "cell_type": "markdown",
      "id": "70a419ea",
      "metadata": {},
      "source": [
        "    Observation: Accuracy turned out to be the same, with and without L2 regularization. In this case there was no effect of lamda on accuracy\n",
        "\n",
        "    Expected answer: With L2 regularization, the neural network achieved a higher accuracy compared to the neural network without regularization. Regularization helps prevent overfitting and generally improves the model's generalization performance\n"
      ]
    },
    {
      "cell_type": "markdown",
      "id": "tAeyojlcFduN",
      "metadata": {
        "id": "tAeyojlcFduN"
      },
      "source": [
        "## Question 6.\n",
        "\n",
        "Optional bonus question: Lambda is a hyperparameter. Implement a cross-validation procedure to tune it and report accuracy for the tuned version of the model. You can also tune the learning rate if you wish, although tuning both parameters will complicate your parameter search procedure\n"
      ]
    },
    {
      "cell_type": "code",
      "execution_count": 88,
      "id": "6554e01e-9de7-4f48-bee0-38e852257ad3",
      "metadata": {
        "id": "6554e01e-9de7-4f48-bee0-38e852257ad3"
      },
      "outputs": [],
      "source": [
        "def lamdaSearchKCrossVal(data, K, l_start=0.0, l_end=0.5, l_step=0.01):\n",
        "    \"\"\"\n",
        "    Perform a lambda search with K-fold cross-validation to find the best lambda (λ) value for L2 regularization.\n",
        "\n",
        "    Parameters:\n",
        "        data (pd.DataFrame): The dataset containing features and labels.\n",
        "        K (int): The number of folds for K-fold cross-validation.\n",
        "        l_start (float): The starting value for lambda.\n",
        "        l_end (float): The ending value for lambda.\n",
        "        l_step (float): The step size for lambda.\n",
        "\n",
        "    Returns:\n",
        "        dict: A dictionary containing lambda values as keys and their corresponding average accuracies as values.\n",
        "              Additionally, 'best_lamda' key stores the best lambda found, and 'max_acc' key stores the maximum accuracy.\n",
        "    \"\"\"\n",
        "    # Initialize variables to track the best lambda and maximum average accuracy\n",
        "    max_avg_acc = 0\n",
        "    best_lamda = 0\n",
        "    lamda = l_start\n",
        "    lamda_results = {}\n",
        "\n",
        "    # Iterate over lambda values within the specified range with the given step\n",
        "    while lamda <= l_end:\n",
        "        data = data.sample(frac=1, random_state=0).reset_index(drop=True)\n",
        "        data_split = np.array_split(data, K)\n",
        "        acc_agg = 0\n",
        "\n",
        "        # Perform K-fold cross-validation\n",
        "        for i in range(K):\n",
        "            test_i = data_split[i]\n",
        "            train_i = data_split.copy()\n",
        "            del train_i[i]\n",
        "            train_i = pd.concat(train_i, sort=False)\n",
        "\n",
        "            # Split data into features and labels for training and testing\n",
        "            train_i_x = train_i.drop(\"class\", axis=1)\n",
        "            train_i_y = train_i[\"class\"]\n",
        "            test_i_x = test_i.drop(\"class\", axis=1)\n",
        "            test_i_y = test_i[\"class\"]\n",
        "\n",
        "            # Call a function to train and evaluate the model with L2 regularization\n",
        "            result = oneLNN_L2(train_i_x, test_i_x, train_i_y, test_i_y, lamda=lamda)\n",
        "            acc_agg += result[\"accuracy\"]\n",
        "\n",
        "        # Update the best lambda and maximum average accuracy\n",
        "        if max_avg_acc <= float(acc_agg / K):\n",
        "            max_avg_acc = float(acc_agg / K)\n",
        "            best_lamda = lamda\n",
        "\n",
        "        # Store the accuracy for this lambda value\n",
        "        lamda_results[round(lamda, 3)] = round(acc_agg / K, 8)\n",
        "        lamda = lamda + l_step\n",
        "\n",
        "    # Store the best lambda and maximum accuracy in the results dictionary\n",
        "    lamda_results[\"best_lamda\"] = round(best_lamda, 3)\n",
        "    lamda_results[\"max_acc\"] = round(max_avg_acc, 8)\n",
        "\n",
        "    return lamda_results"
      ]
    },
    {
      "cell_type": "code",
      "execution_count": 89,
      "id": "QYJrq_Pn_yej",
      "metadata": {
        "colab": {
          "base_uri": "https://localhost:8080/"
        },
        "id": "QYJrq_Pn_yej",
        "outputId": "8be8e618-e3f5-46c7-a82d-6b472cc10b53"
      },
      "outputs": [
        {
          "data": {
            "text/plain": [
              "{0.0: 0.98833175,\n",
              " 0.01: 0.98834233,\n",
              " 0.02: 0.98833704,\n",
              " 0.03: 0.98906167,\n",
              " 0.04: 0.98833704,\n",
              " 0.05: 0.98833175,\n",
              " 0.06: 0.98832117,\n",
              " 0.07: 0.98834233,\n",
              " 0.08: 0.98833175,\n",
              " 0.09: 0.98833704,\n",
              " 0.1: 0.98833704,\n",
              " 0.11: 0.98834233,\n",
              " 0.12: 0.9883529,\n",
              " 0.13: 0.98833704,\n",
              " 0.14: 0.98832646,\n",
              " 0.15: 0.98833175,\n",
              " 0.16: 0.9883529,\n",
              " 0.17: 0.98833175,\n",
              " 0.18: 0.98833704,\n",
              " 0.19: 0.98906167,\n",
              " 0.2: 0.98834233,\n",
              " 0.21: 0.98832117,\n",
              " 0.22: 0.98833704,\n",
              " 0.23: 0.98833175,\n",
              " 0.24: 0.98833704,\n",
              " 0.25: 0.98905638,\n",
              " 0.26: 0.98906167,\n",
              " 0.27: 0.98833175,\n",
              " 0.28: 0.98906696,\n",
              " 0.29: 0.98833175,\n",
              " 0.3: 0.98834233,\n",
              " 0.31: 0.98834233,\n",
              " 0.32: 0.98906696,\n",
              " 0.33: 0.98834233,\n",
              " 0.34: 0.98832646,\n",
              " 0.35: 0.98834233,\n",
              " 0.36: 0.98905638,\n",
              " 0.37: 0.98834233,\n",
              " 0.38: 0.98832646,\n",
              " 0.39: 0.98906696,\n",
              " 0.4: 0.98834761,\n",
              " 0.41: 0.98905109,\n",
              " 0.42: 0.98907225,\n",
              " 0.43: 0.98905638,\n",
              " 0.44: 0.98833175,\n",
              " 0.45: 0.98832646,\n",
              " 0.46: 0.98833175,\n",
              " 0.47: 0.98833175,\n",
              " 0.48: 0.98833704,\n",
              " 0.49: 0.98833704,\n",
              " 'best_lamda': 0.42,\n",
              " 'max_acc': 0.98907225}"
            ]
          },
          "execution_count": 89,
          "metadata": {},
          "output_type": "execute_result"
        }
      ],
      "source": [
        "lamdaSearchKCrossVal(df, 10)"
      ]
    },
    {
      "cell_type": "markdown",
      "id": "cdaac05f",
      "metadata": {},
      "source": [
        "The best lambda value that maximizes accuracy is 0.42, resulting in a maximum accuracy of approximately 98.98%.\n"
      ]
    },
    {
      "cell_type": "markdown",
      "id": "920674f2",
      "metadata": {},
      "source": [
        "## Personal Question:\n",
        "\n",
        "Find out the effects of applying various forms of normalaztion and standardization.\n"
      ]
    },
    {
      "cell_type": "code",
      "execution_count": 90,
      "id": "0ce814b8",
      "metadata": {},
      "outputs": [
        {
          "data": {
            "text/plain": [
              "{'orginal': {'weights': array([[-2.25747136],\n",
              "         [-1.372657  ],\n",
              "         [-1.58111536],\n",
              "         [-0.24331684]]),\n",
              "  'biases': array([2.37259431]),\n",
              "  'accuracy': 0.9890909090909091,\n",
              "  'lamda': 0},\n",
              " 'standardize': {'weights': array([[-3.56892666],\n",
              "         [-3.02321142],\n",
              "         [-2.83044178],\n",
              "         [ 0.27704656]]),\n",
              "  'biases': array([-0.71525498]),\n",
              "  'accuracy': 0.9709090909090909,\n",
              "  'lamda': 0},\n",
              " 'min_max_normalize': {'weights': array([[-4.0659001 ],\n",
              "         [-1.38516724],\n",
              "         [ 0.52574709],\n",
              "         [ 0.84923846]]),\n",
              "  'biases': array([1.92407954]),\n",
              "  'accuracy': 0.8581818181818182,\n",
              "  'lamda': 0},\n",
              " 'abs_max_normalize': {'weights': array([[-4.76895639],\n",
              "         [-2.40030496],\n",
              "         [-1.29851275],\n",
              "         [ 0.13723572]]),\n",
              "  'biases': array([0.35159387]),\n",
              "  'accuracy': 0.92,\n",
              "  'lamda': 0}}"
            ]
          },
          "execution_count": 90,
          "metadata": {},
          "output_type": "execute_result"
        }
      ],
      "source": [
        "x_standardize = (x - x.mean()) / x.std()  # standardization\n",
        "x_normal_0 = (x - x.min()) / (x.max() - x.min())  # 0-1 normalization\n",
        "x_normal_1 = x / x.abs().max()  # (-1)-1 normalization\n",
        "data = {\n",
        "    \"orginal\": x,\n",
        "    \"standardize\": x_standardize,\n",
        "    \"min_max_normalize\": x_normal_0,\n",
        "    \"abs_max_normalize\": x_normal_1,\n",
        "}\n",
        "accuracy_scores = {}\n",
        "for key, x in data.items():\n",
        "    # test train split\n",
        "    (X_train, X_test, y_train, y_test) = train_test_split(\n",
        "        x, y, test_size=0.2, random_state=123\n",
        "    )\n",
        "\n",
        "    accuracy_scores[key] = oneLNN_L2(X_train, X_test, y_train, y_test)\n",
        "\n",
        "(accuracy_scores)"
      ]
    }
  ],
  "metadata": {
    "colab": {
      "provenance": []
    },
    "kernelspec": {
      "display_name": "assignment1",
      "language": "python",
      "name": "python3"
    },
    "language_info": {
      "codemirror_mode": {
        "name": "ipython",
        "version": 3
      },
      "file_extension": ".py",
      "mimetype": "text/x-python",
      "name": "python",
      "nbconvert_exporter": "python",
      "pygments_lexer": "ipython3",
      "version": "3.11.5"
    }
  },
  "nbformat": 4,
  "nbformat_minor": 5
}
